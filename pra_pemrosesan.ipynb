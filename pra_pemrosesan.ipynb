{
 "cells": [
  {
   "cell_type": "code",
   "execution_count": null,
   "id": "bef241ae-aba7-47e3-842f-8957aaaabf7b",
   "metadata": {},
   "outputs": [],
   "source": []
  },
  {
   "cell_type": "code",
   "execution_count": 1,
   "id": "e08d0c8c-c813-4912-a457-f149ebca33d1",
   "metadata": {},
   "outputs": [
    {
     "name": "stdout",
     "output_type": "stream",
     "text": [
      "{'Normal weight': np.int64(0), 'Obese': np.int64(1), 'Overweight': np.int64(2), 'Underweight': np.int64(3)}\n"
     ]
    }
   ],
   "source": [
    "import pandas as pd\n",
    "import numpy as np\n",
    "from sklearn.preprocessing import StandardScaler, LabelEncoder\n",
    "from scipy import stats\n",
    "\n",
    "df = pd.read_csv(\"obesity_data.csv\")\n",
    "\n",
    "\n",
    "df = df.dropna().reset_index(drop=True)\n",
    "\n",
    "\n",
    "z_scores = np.abs(stats.zscore(df['Weight']))\n",
    "df_clean = df[z_scores < 3].copy()\n",
    "\n",
    "\n",
    "numerical_cols = ['Age', 'Weight', 'Height', 'BMI', 'PhysicalActivityLevel']\n",
    "scaler = StandardScaler()\n",
    "df_clean[numerical_cols] = scaler.fit_transform(df_clean[numerical_cols])\n",
    "\n",
    "\n",
    "gender_encoder = LabelEncoder()\n",
    "df_clean['Gender'] = gender_encoder.fit_transform(df_clean['Gender'])\n",
    "\n",
    "\n",
    "label_encoder = LabelEncoder()\n",
    "df_clean['ObesityCategory'] = label_encoder.fit_transform(df_clean['ObesityCategory'])\n",
    "\n",
    "\n",
    "print(dict(zip(label_encoder.classes_, label_encoder.transform(label_encoder.classes_))))\n",
    "\n",
    "\n",
    "df_clean.to_csv(\"obesity_data_processed_final_1.csv\", index=False)\n"
   ]
  },
  {
   "cell_type": "code",
   "execution_count": 2,
   "id": "20ab511c-9d79-4315-93d1-799d20189815",
   "metadata": {},
   "outputs": [
    {
     "name": "stdout",
     "output_type": "stream",
     "text": [
      "Collecting scikit-learn\n",
      "  Downloading scikit_learn-1.6.1-cp313-cp313-win_amd64.whl.metadata (15 kB)\n",
      "Requirement already satisfied: numpy>=1.19.5 in c:\\users\\nevan\\appdata\\local\\programs\\python\\python313\\lib\\site-packages (from scikit-learn) (2.2.3)\n",
      "Requirement already satisfied: scipy>=1.6.0 in c:\\users\\nevan\\appdata\\local\\programs\\python\\python313\\lib\\site-packages (from scikit-learn) (1.15.2)\n",
      "Collecting joblib>=1.2.0 (from scikit-learn)\n",
      "  Downloading joblib-1.5.1-py3-none-any.whl.metadata (5.6 kB)\n",
      "Collecting threadpoolctl>=3.1.0 (from scikit-learn)\n",
      "  Downloading threadpoolctl-3.6.0-py3-none-any.whl.metadata (13 kB)\n",
      "Downloading scikit_learn-1.6.1-cp313-cp313-win_amd64.whl (11.1 MB)\n",
      "   ---------------------------------------- 0.0/11.1 MB ? eta -:--:--\n",
      "   ---------------------------------------- 0.0/11.1 MB ? eta -:--:--\n",
      "   - -------------------------------------- 0.5/11.1 MB 1.7 MB/s eta 0:00:07\n",
      "   -- ------------------------------------- 0.8/11.1 MB 1.4 MB/s eta 0:00:08\n",
      "   --- ------------------------------------ 1.0/11.1 MB 1.4 MB/s eta 0:00:08\n",
      "   ---- ----------------------------------- 1.3/11.1 MB 1.4 MB/s eta 0:00:08\n",
      "   ------ --------------------------------- 1.8/11.1 MB 1.6 MB/s eta 0:00:06\n",
      "   -------- ------------------------------- 2.4/11.1 MB 1.8 MB/s eta 0:00:05\n",
      "   ---------- ----------------------------- 2.9/11.1 MB 1.9 MB/s eta 0:00:05\n",
      "   ------------ --------------------------- 3.4/11.1 MB 2.0 MB/s eta 0:00:04\n",
      "   ------------- -------------------------- 3.7/11.1 MB 1.9 MB/s eta 0:00:04\n",
      "   --------------- ------------------------ 4.2/11.1 MB 2.0 MB/s eta 0:00:04\n",
      "   ----------------- ---------------------- 4.7/11.1 MB 2.1 MB/s eta 0:00:04\n",
      "   ------------------ --------------------- 5.2/11.1 MB 2.1 MB/s eta 0:00:03\n",
      "   ------------------- -------------------- 5.5/11.1 MB 2.1 MB/s eta 0:00:03\n",
      "   --------------------- ------------------ 6.0/11.1 MB 2.1 MB/s eta 0:00:03\n",
      "   ----------------------- ---------------- 6.6/11.1 MB 2.1 MB/s eta 0:00:03\n",
      "   ------------------------- -------------- 7.1/11.1 MB 2.1 MB/s eta 0:00:02\n",
      "   --------------------------- ------------ 7.6/11.1 MB 2.1 MB/s eta 0:00:02\n",
      "   ----------------------------- ---------- 8.1/11.1 MB 2.2 MB/s eta 0:00:02\n",
      "   ------------------------------- -------- 8.7/11.1 MB 2.2 MB/s eta 0:00:02\n",
      "   --------------------------------- ------ 9.2/11.1 MB 2.2 MB/s eta 0:00:01\n",
      "   ----------------------------------- ---- 9.7/11.1 MB 2.2 MB/s eta 0:00:01\n",
      "   ------------------------------------ --- 10.2/11.1 MB 2.2 MB/s eta 0:00:01\n",
      "   -------------------------------------- - 10.7/11.1 MB 2.2 MB/s eta 0:00:01\n",
      "   ---------------------------------------- 11.1/11.1 MB 2.2 MB/s eta 0:00:00\n",
      "Downloading joblib-1.5.1-py3-none-any.whl (307 kB)\n",
      "Downloading threadpoolctl-3.6.0-py3-none-any.whl (18 kB)\n",
      "Installing collected packages: threadpoolctl, joblib, scikit-learn\n",
      "Successfully installed joblib-1.5.1 scikit-learn-1.6.1 threadpoolctl-3.6.0\n"
     ]
    },
    {
     "name": "stderr",
     "output_type": "stream",
     "text": [
      "\n",
      "[notice] A new release of pip is available: 25.0.1 -> 25.1.1\n",
      "[notice] To update, run: python.exe -m pip install --upgrade pip\n"
     ]
    }
   ],
   "source": []
  },
  {
   "cell_type": "code",
   "execution_count": null,
   "id": "ac134348-247a-4368-8553-bf0377aa9959",
   "metadata": {},
   "outputs": [],
   "source": []
  }
 ],
 "metadata": {
  "kernelspec": {
   "display_name": "Python 3 (ipykernel)",
   "language": "python",
   "name": "python3"
  },
  "language_info": {
   "codemirror_mode": {
    "name": "ipython",
    "version": 3
   },
   "file_extension": ".py",
   "mimetype": "text/x-python",
   "name": "python",
   "nbconvert_exporter": "python",
   "pygments_lexer": "ipython3",
   "version": "3.13.2"
  }
 },
 "nbformat": 4,
 "nbformat_minor": 5
}
