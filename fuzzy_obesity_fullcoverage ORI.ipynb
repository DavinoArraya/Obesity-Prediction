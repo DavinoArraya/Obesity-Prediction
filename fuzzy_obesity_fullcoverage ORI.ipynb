{
 "cells": [
  {
   "cell_type": "markdown",
   "id": "883f6fdf",
   "metadata": {},
   "source": [
    "# Fuzzy Logic Classification – \n"
   ]
  },
  {
   "cell_type": "markdown",
   "id": "d05fc080",
   "metadata": {},
   "source": [
    "## 1. Install libraries (sekali)"
   ]
  },
  {
   "cell_type": "code",
   "execution_count": 12,
   "id": "2bee656e",
   "metadata": {},
   "outputs": [],
   "source": [
    "!pip install -q scikit-fuzzy scikit-learn pandas numpy matplotlib"
   ]
  },
  {
   "cell_type": "markdown",
   "id": "5a081cd4",
   "metadata": {},
   "source": [
    "## 2. Import"
   ]
  },
  {
   "cell_type": "code",
   "execution_count": 1,
   "id": "7ee26c72",
   "metadata": {},
   "outputs": [],
   "source": [
    "import pandas as pd, numpy as np, skfuzzy as fuzz\n",
    "from skfuzzy import control as ctrl\n",
    "from sklearn.metrics import classification_report, confusion_matrix, ConfusionMatrixDisplay\n",
    "import matplotlib.pyplot as plt"
   ]
  },
  {
   "cell_type": "markdown",
   "id": "eca3e265",
   "metadata": {},
   "source": [
    "## 3. Load dataset"
   ]
  },
  {
   "cell_type": "code",
   "execution_count": 7,
   "id": "847936ed",
   "metadata": {},
   "outputs": [
    {
     "name": "stdout",
     "output_type": "stream",
     "text": [
      "Rows loaded: 998\n"
     ]
    },
    {
     "data": {
      "text/html": [
       "<div>\n",
       "<style scoped>\n",
       "    .dataframe tbody tr th:only-of-type {\n",
       "        vertical-align: middle;\n",
       "    }\n",
       "\n",
       "    .dataframe tbody tr th {\n",
       "        vertical-align: top;\n",
       "    }\n",
       "\n",
       "    .dataframe thead th {\n",
       "        text-align: right;\n",
       "    }\n",
       "</style>\n",
       "<table border=\"1\" class=\"dataframe\">\n",
       "  <thead>\n",
       "    <tr style=\"text-align: right;\">\n",
       "      <th></th>\n",
       "      <th>Age</th>\n",
       "      <th>Gender</th>\n",
       "      <th>Height</th>\n",
       "      <th>Weight</th>\n",
       "      <th>BMI</th>\n",
       "      <th>PhysicalActivityLevel</th>\n",
       "      <th>ObesityCategory</th>\n",
       "    </tr>\n",
       "  </thead>\n",
       "  <tbody>\n",
       "    <tr>\n",
       "      <th>0</th>\n",
       "      <td>0.338886</td>\n",
       "      <td>1</td>\n",
       "      <td>0.340537</td>\n",
       "      <td>0.056720</td>\n",
       "      <td>-0.156007</td>\n",
       "      <td>1.311971</td>\n",
       "      <td>0</td>\n",
       "    </tr>\n",
       "    <tr>\n",
       "      <th>1</th>\n",
       "      <td>1.057069</td>\n",
       "      <td>1</td>\n",
       "      <td>-0.576678</td>\n",
       "      <td>1.226353</td>\n",
       "      <td>1.395983</td>\n",
       "      <td>-0.479202</td>\n",
       "      <td>1</td>\n",
       "    </tr>\n",
       "    <tr>\n",
       "      <th>2</th>\n",
       "      <td>-0.213562</td>\n",
       "      <td>0</td>\n",
       "      <td>-0.193705</td>\n",
       "      <td>0.118437</td>\n",
       "      <td>0.158517</td>\n",
       "      <td>1.311971</td>\n",
       "      <td>2</td>\n",
       "    </tr>\n",
       "    <tr>\n",
       "      <th>3</th>\n",
       "      <td>-0.986989</td>\n",
       "      <td>1</td>\n",
       "      <td>-0.156093</td>\n",
       "      <td>0.896336</td>\n",
       "      <td>0.827186</td>\n",
       "      <td>0.416385</td>\n",
       "      <td>2</td>\n",
       "    </tr>\n",
       "    <tr>\n",
       "      <th>4</th>\n",
       "      <td>0.559866</td>\n",
       "      <td>1</td>\n",
       "      <td>1.310694</td>\n",
       "      <td>-0.134764</td>\n",
       "      <td>-0.711890</td>\n",
       "      <td>0.416385</td>\n",
       "      <td>0</td>\n",
       "    </tr>\n",
       "  </tbody>\n",
       "</table>\n",
       "</div>"
      ],
      "text/plain": [
       "        Age  Gender    Height    Weight       BMI  PhysicalActivityLevel  \\\n",
       "0  0.338886       1  0.340537  0.056720 -0.156007               1.311971   \n",
       "1  1.057069       1 -0.576678  1.226353  1.395983              -0.479202   \n",
       "2 -0.213562       0 -0.193705  0.118437  0.158517               1.311971   \n",
       "3 -0.986989       1 -0.156093  0.896336  0.827186               0.416385   \n",
       "4  0.559866       1  1.310694 -0.134764 -0.711890               0.416385   \n",
       "\n",
       "   ObesityCategory  \n",
       "0                0  \n",
       "1                1  \n",
       "2                2  \n",
       "3                2  \n",
       "4                0  "
      ]
     },
     "execution_count": 7,
     "metadata": {},
     "output_type": "execute_result"
    }
   ],
   "source": [
    "df = pd.read_csv(\"obesity_data_processed_final1.csv\")\n",
    "print('Rows loaded:', len(df))\n",
    "df.head()"
   ]
  },
  {
   "cell_type": "markdown",
   "id": "cb0b8569",
   "metadata": {},
   "source": [
    "## 4. Build fuzzy system"
   ]
  },
  {
   "cell_type": "code",
   "execution_count": 8,
   "id": "f425c758",
   "metadata": {},
   "outputs": [],
   "source": [
    "X_cols = ['BMI', 'PhysicalActivityLevel', 'Age', 'Weight', 'Height', 'Gender']\n",
    "y_col  = 'ObesityCategory'\n",
    "df = df.dropna(subset=X_cols + [y_col]).reset_index(drop=True)\n",
    "\n",
    "\n",
    "BMI_uni    = np.linspace(df['BMI'].min(),  df['BMI'].max(), 501)\n",
    "Act_uni    = np.linspace(df['PhysicalActivityLevel'].min(), df['PhysicalActivityLevel'].max(), 501)\n",
    "Age_uni    = np.linspace(df['Age'].min(),  df['Age'].max(), 501)\n",
    "Weight_uni = np.linspace(df['Weight'].min(), df['Weight'].max(), 501)\n",
    "Height_uni = np.linspace(df['Height'].min(), df['Height'].max(), 501)\n",
    "Risk_uni   = np.linspace(0, 3, 301)\n",
    "Gender_uni = np.array([0, 1])\n",
    " \n",
    "\n",
    "Weight = ctrl.Antecedent(Weight_uni, 'Weight')\n",
    "Height = ctrl.Antecedent(Height_uni, 'Height')\n",
    "BMI      = ctrl.Antecedent(BMI_uni,'BMI')\n",
    "Activity = ctrl.Antecedent(Act_uni,'Activity')\n",
    "Age      = ctrl.Antecedent(Age_uni,'Age')\n",
    "Gender  = ctrl.Antecedent(Gender_uni, 'Gender')\n",
    "Risk     = ctrl.Consequent(Risk_uni,'Risk')\n",
    "\n",
    "\n",
    "def add_mfs(var, q_vals, names):\n",
    "    lo, hi = var.universe.min(), var.universe.max()\n",
    "    a,b,c = sorted([float(x) for x in q_vals])\n",
    "    var[names[0]] = fuzz.trimf(var.universe, [lo, a, b])\n",
    "    var[names[1]] = fuzz.trimf(var.universe, [a, b, c])\n",
    "    var[names[2]] = fuzz.trimf(var.universe, [b, c, hi])\n",
    "\n",
    "\n",
    "Q = {c: df[c].quantile([.25, .5, .75]).values for c in [\n",
    "    'BMI', 'PhysicalActivityLevel', 'Age', 'Weight', 'Height'\n",
    "]}\n",
    "\n",
    "add_mfs(BMI, Q['BMI'], ['low', 'medium', 'high'])\n",
    "add_mfs(Activity, Q['PhysicalActivityLevel'], ['poor', 'fair', 'good'])\n",
    "add_mfs(Age, Q['Age'], ['young', 'adult', 'senior'])\n",
    "add_mfs(Weight, Q['Weight'], ['light', 'medium', 'heavy'])\n",
    "add_mfs(Height, Q['Height'], ['short', 'average', 'tall'])\n",
    "\n",
    "\n",
    "Gender['female'] = fuzz.trimf(Gender.universe, [0, 0, 1])\n",
    "Gender['male']   = fuzz.trimf(Gender.universe, [0, 1, 1])\n",
    "\n",
    "\n",
    "Risk['under'] = fuzz.trimf(Risk.universe,[0,0,1])\n",
    "Risk['norm']  = fuzz.trimf(Risk.universe,[0,1,2])\n",
    "Risk['over']  = fuzz.trimf(Risk.universe,[1,2,3])\n",
    "Risk['obese'] = fuzz.trimf(Risk.universe,[2,3,3])\n",
    "\n",
    "\n",
    "rule_grid = [\n",
    "    (BMI['low'],    Activity['poor'],  'under'),\n",
    "    (BMI['low'],    Activity['fair'],  'under'),\n",
    "    (BMI['low'],    Activity['good'],  'under'),\n",
    "\n",
    "    (BMI['medium'], Activity['poor'],  'over'),\n",
    "    (BMI['medium'], Activity['fair'],  'over'),\n",
    "    (BMI['medium'], Activity['good'],  'norm'),\n",
    "\n",
    "    (BMI['high'],   Activity['poor'],  'obese'),\n",
    "    (BMI['high'],   Activity['fair'],  'obese'),\n",
    "    (BMI['high'],   Activity['good'],  'over'),\n",
    "]\n",
    "\n",
    "rules = [ctrl.Rule(cond1 & cond2, Risk[label]) for cond1,cond2,label in rule_grid]\n",
    "\n",
    "\n",
    "rules += [\n",
    "    ctrl.Rule(Age['senior'] & BMI['medium'] & Activity['fair'], Risk['over']),\n",
    "    ctrl.Rule(Age['senior'] & BMI['high'],                        Risk['obese']),\n",
    "]\n",
    "\n",
    "rules += [\n",
    "    ctrl.Rule(Gender['male'] & BMI['high'] & Activity['poor'], Risk['obese']),\n",
    "    ctrl.Rule(Gender['female'] & BMI['medium'] & Activity['good'], Risk['norm']),\n",
    "]\n",
    "\n",
    "rules += [\n",
    "    ctrl.Rule(Weight['heavy'] & Height['short'], Risk['obese']),\n",
    "    ctrl.Rule(Weight['light'] & Height['tall'], Risk['under']),\n",
    "    ctrl.Rule(Weight['medium'] & Height['average'], Risk['norm']),\n",
    "]\n",
    "system = ctrl.ControlSystem(rules)"
   ]
  },
  {
   "cell_type": "markdown",
   "id": "33e5448a",
   "metadata": {},
   "source": [
    "## 5. Predict"
   ]
  },
  {
   "cell_type": "code",
   "execution_count": 9,
   "id": "14b8ff26",
   "metadata": {},
   "outputs": [
    {
     "name": "stdout",
     "output_type": "stream",
     "text": [
      "Predictions done: 998\n"
     ]
    }
   ],
   "source": [
    "y_pred = []\n",
    "for row in df.itertuples(index=False):\n",
    "    sim = ctrl.ControlSystemSimulation(system)\n",
    "    sim.input['BMI']      = row.BMI\n",
    "    sim.input['Activity'] = row.PhysicalActivityLevel\n",
    "    sim.input['Age']      = row.Age\n",
    "    sim.input['Gender']   = row.Gender  \n",
    "    sim.input['Weight']   = row.Weight      \n",
    "    sim.input['Height']   = row.Height     \n",
    "    sim.compute()\n",
    "    risk = sim.output.get('Risk', np.nan)\n",
    "    if np.isnan(risk):  # fallback if somehow none\n",
    "        risk = 1  # default to 'Normal'\n",
    "    y_pred.append(int(np.clip(round(risk), 0, 3)))\n",
    "\n",
    "print('Predictions done:', len(y_pred))\n"
   ]
  },
  {
   "cell_type": "markdown",
   "id": "d3c4f92d",
   "metadata": {},
   "source": [
    "### Metrics"
   ]
  },
  {
   "cell_type": "code",
   "execution_count": 10,
   "id": "7895b06f",
   "metadata": {},
   "outputs": [
    {
     "name": "stdout",
     "output_type": "stream",
     "text": [
      "              precision    recall  f1-score     support\n",
      "0              0.440171  0.280654  0.342762  367.000000\n",
      "1              0.019934  0.031746  0.024490  189.000000\n",
      "2              0.628253  0.569024  0.597173  297.000000\n",
      "3              0.015464  0.020690  0.017699  145.000000\n",
      "accuracy       0.281563  0.281563  0.281563    0.281563\n",
      "macro avg      0.275955  0.225528  0.245531  998.000000\n",
      "weighted avg   0.354853  0.281563  0.310971  998.000000\n"
     ]
    },
    {
     "data": {
      "image/png": "[encoded data removed]",
      "text/plain": [
       "<Figure size 640x480 with 2 Axes>"
      ]
     },
     "metadata": {},
     "output_type": "display_data"
    }
   ],
   "source": [
    "report = classification_report(df[y_col], y_pred, output_dict=True)\n",
    "report_df = pd.DataFrame(report).transpose()\n",
    "print(report_df)\n",
    "cm = confusion_matrix(df[y_col], y_pred)\n",
    "ConfusionMatrixDisplay(cm, display_labels=['Under','Normal','Over','Obese']).plot(cmap='Blues', xticks_rotation=45)\n",
    "plt.show()"
   ]
  },
  {
   "cell_type": "markdown",
   "id": "b0f3dfe3",
   "metadata": {},
   "source": [
    "## 6. Save"
   ]
  },
  {
   "cell_type": "code",
   "execution_count": 11,
   "id": "8c450145",
   "metadata": {},
   "outputs": [
    {
     "name": "stdout",
     "output_type": "stream",
     "text": [
      "Saved to obesity_with_predictions_withgender.csv\n"
     ]
    }
   ],
   "source": [
    "df['Predicted'] = y_pred\n",
    "df.to_csv('obesity_with_predictions_withgender.csv', index=False)\n",
    "print('Saved to obesity_with_predictions_withgender.csv')"
   ]
  },
  {
   "cell_type": "code",
   "execution_count": null,
   "id": "391b1d61-5e06-4005-af96-a2847d1ece69",
   "metadata": {},
   "outputs": [],
   "source": []
  }
 ],
 "metadata": {
  "kernelspec": {
   "display_name": "Python 3 (ipykernel)",
   "language": "python",
   "name": "python3"
  },
  "language_info": {
   "codemirror_mode": {
    "name": "ipython",
    "version": 3
   },
   "file_extension": ".py",
   "mimetype": "text/x-python",
   "name": "python",
   "nbconvert_exporter": "python",
   "pygments_lexer": "ipython3",
   "version": "3.13.2"
  }
 },
 "nbformat": 4,
 "nbformat_minor": 5
}
